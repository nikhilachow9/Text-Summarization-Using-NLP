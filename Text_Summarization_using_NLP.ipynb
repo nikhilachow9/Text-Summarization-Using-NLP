{
  "nbformat": 4,
  "nbformat_minor": 0,
  "metadata": {
    "colab": {
      "provenance": []
    },
    "kernelspec": {
      "name": "python3",
      "display_name": "Python 3"
    },
    "language_info": {
      "name": "python"
    }
  },
  "cells": [
    {
      "cell_type": "code",
      "execution_count": 71,
      "metadata": {
        "id": "53gki_nWyU7N"
      },
      "outputs": [],
      "source": [
        "text = \"\"\"\n",
        "Formula 1, commonly known as F1, represents the pinnacle of single-seater auto racing. It's distinguished by high-speed races, cutting-edge technology, and a global fan base. F1 cars are renowned for their aerodynamic designs and incredible speeds, often exceeding 200 miles per hour. The Formula 1 World Championship consists of a series of Grands Prix races, held on various circuits worldwide. Teams and drivers compete for both the Drivers' Championship and the Constructors' Championship. Each team, like Mercedes, Ferrari, and Red Bull Racing, designs and builds its own specialized car, pushing the limits of engineering. Formula 1 is celebrated for its iconic drivers, such as Michael Schumacher, Ayrton Senna, and Lewis Hamilton, and has a massive global viewership. Safety innovations, like the Halo device, have been introduced to protect drivers. The sport is also adapting to environmental concerns by introducing hybrid power units and sustainability initiatives. Formula 1 combines speed, technology, strategy, teamwork, and precision, offering a thrilling spectacle for racing enthusiasts worldwide. \"\"\""
      ]
    },
    {
      "cell_type": "code",
      "source": [
        "text"
      ],
      "metadata": {
        "colab": {
          "base_uri": "https://localhost:8080/",
          "height": 123
        },
        "id": "I4ctHrWjy-uj",
        "outputId": "3777dc45-95a5-4d2e-9e04-82803053f5d1"
      },
      "execution_count": 72,
      "outputs": [
        {
          "output_type": "execute_result",
          "data": {
            "text/plain": [
              "\" \\nFormula 1, commonly known as F1, represents the pinnacle of single-seater auto racing. It's distinguished by high-speed races, cutting-edge technology, and a global fan base. F1 cars are renowned for their aerodynamic designs and incredible speeds, often exceeding 200 miles per hour. The Formula 1 World Championship consists of a series of Grands Prix races, held on various circuits worldwide. Teams and drivers compete for both the Drivers' Championship and the Constructors' Championship. Each team, like Mercedes, Ferrari, and Red Bull Racing, designs and builds its own specialized car, pushing the limits of engineering. Formula 1 is celebrated for its iconic drivers, such as Michael Schumacher, Ayrton Senna, and Lewis Hamilton, and has a massive global viewership. Safety innovations, like the Halo device, have been introduced to protect drivers. The sport is also adapting to environmental concerns by introducing hybrid power units and sustainability initiatives. Formula 1 combines speed, technology, strategy, teamwork, and precision, offering a thrilling spectacle for racing enthusiasts worldwide. \""
            ],
            "application/vnd.google.colaboratory.intrinsic+json": {
              "type": "string"
            }
          },
          "metadata": {},
          "execution_count": 72
        }
      ]
    },
    {
      "cell_type": "code",
      "source": [
        "import spacy\n",
        "from spacy.lang.en.stop_words import STOP_WORDS\n",
        "from string import punctuation"
      ],
      "metadata": {
        "id": "uUPdYImBzGiS"
      },
      "execution_count": 73,
      "outputs": []
    },
    {
      "cell_type": "code",
      "source": [
        "stopwords = list(STOP_WORDS)"
      ],
      "metadata": {
        "id": "iClDKk3YzL9N"
      },
      "execution_count": 74,
      "outputs": []
    },
    {
      "cell_type": "code",
      "source": [
        "nlp = spacy.load('en_core_web_sm')\n",
        "doc = nlp(text)\n"
      ],
      "metadata": {
        "id": "OsgnlnMUzaf5"
      },
      "execution_count": 75,
      "outputs": []
    },
    {
      "cell_type": "code",
      "source": [
        "doc"
      ],
      "metadata": {
        "colab": {
          "base_uri": "https://localhost:8080/"
        },
        "id": "CDf6cgPwzeVr",
        "outputId": "b98271c4-d599-4189-83e2-4e715596f103"
      },
      "execution_count": 76,
      "outputs": [
        {
          "output_type": "execute_result",
          "data": {
            "text/plain": [
              " \n",
              "Formula 1, commonly known as F1, represents the pinnacle of single-seater auto racing. It's distinguished by high-speed races, cutting-edge technology, and a global fan base. F1 cars are renowned for their aerodynamic designs and incredible speeds, often exceeding 200 miles per hour. The Formula 1 World Championship consists of a series of Grands Prix races, held on various circuits worldwide. Teams and drivers compete for both the Drivers' Championship and the Constructors' Championship. Each team, like Mercedes, Ferrari, and Red Bull Racing, designs and builds its own specialized car, pushing the limits of engineering. Formula 1 is celebrated for its iconic drivers, such as Michael Schumacher, Ayrton Senna, and Lewis Hamilton, and has a massive global viewership. Safety innovations, like the Halo device, have been introduced to protect drivers. The sport is also adapting to environmental concerns by introducing hybrid power units and sustainability initiatives. Formula 1 combines speed, technology, strategy, teamwork, and precision, offering a thrilling spectacle for racing enthusiasts worldwide. "
            ]
          },
          "metadata": {},
          "execution_count": 76
        }
      ]
    },
    {
      "cell_type": "code",
      "source": [
        "tokens = [token.text for token in doc]\n",
        "print(tokens)"
      ],
      "metadata": {
        "colab": {
          "base_uri": "https://localhost:8080/"
        },
        "id": "UfFh-gU_zhQ6",
        "outputId": "cc875889-dc06-4830-d302-4a4ca3cde196"
      },
      "execution_count": 51,
      "outputs": [
        {
          "output_type": "stream",
          "name": "stdout",
          "text": [
            "[' \\n', 'Formula', '1', ',', 'commonly', 'known', 'as', 'F1', ',', 'represents', 'the', 'pinnacle', 'of', 'single', '-', 'seater', 'auto', 'racing', '.', 'It', \"'s\", 'distinguished', 'by', 'high', '-', 'speed', 'races', ',', 'cutting', '-', 'edge', 'technology', ',', 'and', 'a', 'global', 'fan', 'base', '.', 'F1', 'cars', 'are', 'renowned', 'for', 'their', 'aerodynamic', 'designs', 'and', 'incredible', 'speeds', ',', 'often', 'exceeding', '200', 'miles', 'per', 'hour', '.', 'The', 'Formula', '1', 'World', 'Championship', 'consists', 'of', 'a', 'series', 'of', 'Grands', 'Prix', 'races', ',', 'held', 'on', 'various', 'circuits', 'worldwide', '.', 'Teams', 'and', 'drivers', 'compete', 'for', 'both', 'the', 'Drivers', \"'\", 'Championship', 'and', 'the', 'Constructors', \"'\", 'Championship', '.', 'Each', 'team', ',', 'like', 'Mercedes', ',', 'Ferrari', ',', 'and', 'Red', 'Bull', 'Racing', ',', 'designs', 'and', 'builds', 'its', 'own', 'specialized', 'car', ',', 'pushing', 'the', 'limits', 'of', 'engineering', '.', 'Formula', '1', 'is', 'celebrated', 'for', 'its', 'iconic', 'drivers', ',', 'such', 'as', 'Michael', 'Schumacher', ',', 'Ayrton', 'Senna', ',', 'and', 'Lewis', 'Hamilton', ',', 'and', 'has', 'a', 'massive', 'global', 'viewership', '.', 'Safety', 'innovations', ',', 'like', 'the', 'Halo', 'device', ',', 'have', 'been', 'introduced', 'to', 'protect', 'drivers', '.', 'The', 'sport', 'is', 'also', 'adapting', 'to', 'environmental', 'concerns', 'by', 'introducing', 'hybrid', 'power', 'units', 'and', 'sustainability', 'initiatives', '.', 'Formula', '1', 'combines', 'speed', ',', 'technology', ',', 'strategy', ',', 'teamwork', ',', 'and', 'precision', ',', 'offering', 'a', 'thrilling', 'spectacle', 'for', 'racing', 'enthusiasts', 'worldwide', '.']\n"
          ]
        }
      ]
    },
    {
      "cell_type": "code",
      "source": [
        "punctuation = punctuation + '\\n'\n",
        "punctuation"
      ],
      "metadata": {
        "colab": {
          "base_uri": "https://localhost:8080/",
          "height": 36
        },
        "id": "-FIMVIY1z23j",
        "outputId": "a74ba062-ed7a-4da9-d8fe-cd0e737bbbf2"
      },
      "execution_count": 52,
      "outputs": [
        {
          "output_type": "execute_result",
          "data": {
            "text/plain": [
              "'!\"#$%&\\'()*+,-./:;<=>?@[\\\\]^_`{|}~\\n'"
            ],
            "application/vnd.google.colaboratory.intrinsic+json": {
              "type": "string"
            }
          },
          "metadata": {},
          "execution_count": 52
        }
      ]
    },
    {
      "cell_type": "code",
      "source": [
        "word_frequencies = {}\n",
        "for word in doc:\n",
        "  if word.text.lower() not in stopwords:\n",
        "    if word.text.lower() not in punctuation:\n",
        "      if word.text not in word_frequencies.keys():\n",
        "        word_frequencies[word.text] = 1\n",
        "      else:\n",
        "        word_frequencies[word.text] += 1"
      ],
      "metadata": {
        "id": "bvJzovGqz7Km"
      },
      "execution_count": 53,
      "outputs": []
    },
    {
      "cell_type": "code",
      "source": [
        "print(word_frequencies)"
      ],
      "metadata": {
        "colab": {
          "base_uri": "https://localhost:8080/"
        },
        "id": "vHU2wTwGz-1y",
        "outputId": "fdb0ca76-0899-4bf2-bfa2-6813748a5d5a"
      },
      "execution_count": 54,
      "outputs": [
        {
          "output_type": "stream",
          "name": "stdout",
          "text": [
            "{' \\n': 1, 'Formula': 4, '1': 4, 'commonly': 1, 'known': 1, 'F1': 2, 'represents': 1, 'pinnacle': 1, 'single': 1, 'seater': 1, 'auto': 1, 'racing': 2, 'distinguished': 1, 'high': 1, 'speed': 2, 'races': 2, 'cutting': 1, 'edge': 1, 'technology': 2, 'global': 2, 'fan': 1, 'base': 1, 'cars': 1, 'renowned': 1, 'aerodynamic': 1, 'designs': 2, 'incredible': 1, 'speeds': 1, 'exceeding': 1, '200': 1, 'miles': 1, 'hour': 1, 'World': 1, 'Championship': 3, 'consists': 1, 'series': 1, 'Grands': 1, 'Prix': 1, 'held': 1, 'circuits': 1, 'worldwide': 2, 'Teams': 1, 'drivers': 3, 'compete': 1, 'Drivers': 1, 'Constructors': 1, 'team': 1, 'like': 2, 'Mercedes': 1, 'Ferrari': 1, 'Red': 1, 'Bull': 1, 'Racing': 1, 'builds': 1, 'specialized': 1, 'car': 1, 'pushing': 1, 'limits': 1, 'engineering': 1, 'celebrated': 1, 'iconic': 1, 'Michael': 1, 'Schumacher': 1, 'Ayrton': 1, 'Senna': 1, 'Lewis': 1, 'Hamilton': 1, 'massive': 1, 'viewership': 1, 'Safety': 1, 'innovations': 1, 'Halo': 1, 'device': 1, 'introduced': 1, 'protect': 1, 'sport': 1, 'adapting': 1, 'environmental': 1, 'concerns': 1, 'introducing': 1, 'hybrid': 1, 'power': 1, 'units': 1, 'sustainability': 1, 'initiatives': 1, 'combines': 1, 'strategy': 1, 'teamwork': 1, 'precision': 1, 'offering': 1, 'thrilling': 1, 'spectacle': 1, 'enthusiasts': 1}\n"
          ]
        }
      ]
    },
    {
      "cell_type": "code",
      "source": [
        "max_frequency = max(word_frequencies.values())\n",
        "max_frequency"
      ],
      "metadata": {
        "colab": {
          "base_uri": "https://localhost:8080/"
        },
        "id": "b-ws5JSE0DFU",
        "outputId": "1aa8f63d-ee2f-49b4-e248-df5fa2af34e2"
      },
      "execution_count": 55,
      "outputs": [
        {
          "output_type": "execute_result",
          "data": {
            "text/plain": [
              "4"
            ]
          },
          "metadata": {},
          "execution_count": 55
        }
      ]
    },
    {
      "cell_type": "code",
      "source": [
        "for word in word_frequencies.keys():\n",
        "  word_frequencies[word] = word_frequencies[word]/max_frequency"
      ],
      "metadata": {
        "id": "QtABTci40G9S"
      },
      "execution_count": 56,
      "outputs": []
    },
    {
      "cell_type": "code",
      "source": [
        "print(word_frequencies)\n"
      ],
      "metadata": {
        "colab": {
          "base_uri": "https://localhost:8080/"
        },
        "id": "aeYNLCt-0PdQ",
        "outputId": "f227fa75-a68f-43e0-9cf6-bfa84cf2fd20"
      },
      "execution_count": 57,
      "outputs": [
        {
          "output_type": "stream",
          "name": "stdout",
          "text": [
            "{' \\n': 0.25, 'Formula': 1.0, '1': 1.0, 'commonly': 0.25, 'known': 0.25, 'F1': 0.5, 'represents': 0.25, 'pinnacle': 0.25, 'single': 0.25, 'seater': 0.25, 'auto': 0.25, 'racing': 0.5, 'distinguished': 0.25, 'high': 0.25, 'speed': 0.5, 'races': 0.5, 'cutting': 0.25, 'edge': 0.25, 'technology': 0.5, 'global': 0.5, 'fan': 0.25, 'base': 0.25, 'cars': 0.25, 'renowned': 0.25, 'aerodynamic': 0.25, 'designs': 0.5, 'incredible': 0.25, 'speeds': 0.25, 'exceeding': 0.25, '200': 0.25, 'miles': 0.25, 'hour': 0.25, 'World': 0.25, 'Championship': 0.75, 'consists': 0.25, 'series': 0.25, 'Grands': 0.25, 'Prix': 0.25, 'held': 0.25, 'circuits': 0.25, 'worldwide': 0.5, 'Teams': 0.25, 'drivers': 0.75, 'compete': 0.25, 'Drivers': 0.25, 'Constructors': 0.25, 'team': 0.25, 'like': 0.5, 'Mercedes': 0.25, 'Ferrari': 0.25, 'Red': 0.25, 'Bull': 0.25, 'Racing': 0.25, 'builds': 0.25, 'specialized': 0.25, 'car': 0.25, 'pushing': 0.25, 'limits': 0.25, 'engineering': 0.25, 'celebrated': 0.25, 'iconic': 0.25, 'Michael': 0.25, 'Schumacher': 0.25, 'Ayrton': 0.25, 'Senna': 0.25, 'Lewis': 0.25, 'Hamilton': 0.25, 'massive': 0.25, 'viewership': 0.25, 'Safety': 0.25, 'innovations': 0.25, 'Halo': 0.25, 'device': 0.25, 'introduced': 0.25, 'protect': 0.25, 'sport': 0.25, 'adapting': 0.25, 'environmental': 0.25, 'concerns': 0.25, 'introducing': 0.25, 'hybrid': 0.25, 'power': 0.25, 'units': 0.25, 'sustainability': 0.25, 'initiatives': 0.25, 'combines': 0.25, 'strategy': 0.25, 'teamwork': 0.25, 'precision': 0.25, 'offering': 0.25, 'thrilling': 0.25, 'spectacle': 0.25, 'enthusiasts': 0.25}\n"
          ]
        }
      ]
    },
    {
      "cell_type": "code",
      "source": [
        "sentence_tokens = [sent for sent in doc.sents]\n",
        "print(sentence_tokens)"
      ],
      "metadata": {
        "colab": {
          "base_uri": "https://localhost:8080/"
        },
        "id": "t30te8Um0SFP",
        "outputId": "14fd471b-814c-4dfd-f6d1-57cc518eadcd"
      },
      "execution_count": 58,
      "outputs": [
        {
          "output_type": "stream",
          "name": "stdout",
          "text": [
            "[ \n",
            "Formula 1, commonly known as F1, represents the pinnacle of single-seater auto racing., It's distinguished by high-speed races, cutting-edge technology, and a global fan base., F1 cars are renowned for their aerodynamic designs and incredible speeds, often exceeding 200 miles per hour., The Formula 1 World Championship consists of a series of Grands Prix races, held on various circuits worldwide., Teams and drivers compete for both the Drivers' Championship and the Constructors' Championship., Each team, like Mercedes, Ferrari, and Red Bull Racing, designs and builds its own specialized car, pushing the limits of engineering., Formula 1 is celebrated for its iconic drivers, such as Michael Schumacher, Ayrton Senna, and Lewis Hamilton, and has a massive global viewership., Safety innovations, like the Halo device, have been introduced to protect drivers., The sport is also adapting to environmental concerns by introducing hybrid power units and sustainability initiatives., Formula 1 combines speed, technology, strategy, teamwork, and precision, offering a thrilling spectacle for racing enthusiasts worldwide.]\n"
          ]
        }
      ]
    },
    {
      "cell_type": "code",
      "source": [
        "sentence_scores = {}\n",
        "for sent in sentence_tokens:\n",
        "  for word in sent:\n",
        "    if word.text.lower() in word_frequencies.keys():\n",
        "      if sent not in sentence_scores.keys():\n",
        "        sentence_scores[sent] = word_frequencies[word.text.lower()]\n",
        "      else:\n",
        "        sentence_scores[sent] += word_frequencies[word.text.lower()]\n"
      ],
      "metadata": {
        "id": "XIBiF_ZC0VsP"
      },
      "execution_count": 59,
      "outputs": []
    },
    {
      "cell_type": "code",
      "source": [
        "sentence_scores"
      ],
      "metadata": {
        "colab": {
          "base_uri": "https://localhost:8080/"
        },
        "id": "Xxy91Zuz0ZPB",
        "outputId": "4f4db81b-0486-408c-9a1b-6a71c2ea5cd4"
      },
      "execution_count": 60,
      "outputs": [
        {
          "output_type": "execute_result",
          "data": {
            "text/plain": [
              "{ \n",
              " Formula 1, commonly known as F1, represents the pinnacle of single-seater auto racing.: 3.5,\n",
              " It's distinguished by high-speed races, cutting-edge technology, and a global fan base.: 3.5,\n",
              " F1 cars are renowned for their aerodynamic designs and incredible speeds, often exceeding 200 miles per hour.: 2.75,\n",
              " The Formula 1 World Championship consists of a series of Grands Prix races, held on various circuits worldwide.: 3.0,\n",
              " Teams and drivers compete for both the Drivers' Championship and the Constructors' Championship.: 1.75,\n",
              " Each team, like Mercedes, Ferrari, and Red Bull Racing, designs and builds its own specialized car, pushing the limits of engineering.: 3.25,\n",
              " Formula 1 is celebrated for its iconic drivers, such as Michael Schumacher, Ayrton Senna, and Lewis Hamilton, and has a massive global viewership.: 3.25,\n",
              " Safety innovations, like the Halo device, have been introduced to protect drivers.: 2.25,\n",
              " The sport is also adapting to environmental concerns by introducing hybrid power units and sustainability initiatives.: 2.5,\n",
              " Formula 1 combines speed, technology, strategy, teamwork, and precision, offering a thrilling spectacle for racing enthusiasts worldwide.: 5.0}"
            ]
          },
          "metadata": {},
          "execution_count": 60
        }
      ]
    },
    {
      "cell_type": "code",
      "source": [
        "from heapq import nlargest"
      ],
      "metadata": {
        "id": "dVrPIDXN0dOG"
      },
      "execution_count": 61,
      "outputs": []
    },
    {
      "cell_type": "code",
      "source": [
        "select_length = int(len(sentence_tokens)*0.3)\n",
        "select_length"
      ],
      "metadata": {
        "colab": {
          "base_uri": "https://localhost:8080/"
        },
        "id": "iJy7KB500f_a",
        "outputId": "34900481-248a-455b-baf0-6b5cb816aed1"
      },
      "execution_count": 62,
      "outputs": [
        {
          "output_type": "execute_result",
          "data": {
            "text/plain": [
              "3"
            ]
          },
          "metadata": {},
          "execution_count": 62
        }
      ]
    },
    {
      "cell_type": "code",
      "source": [
        "summary = nlargest(select_length, sentence_scores, key = sentence_scores.get)\n",
        "summary"
      ],
      "metadata": {
        "colab": {
          "base_uri": "https://localhost:8080/"
        },
        "id": "Tf7lpw330jST",
        "outputId": "a8b1f738-3ab0-4cea-a777-a9249c463df4"
      },
      "execution_count": 63,
      "outputs": [
        {
          "output_type": "execute_result",
          "data": {
            "text/plain": [
              "[Formula 1 combines speed, technology, strategy, teamwork, and precision, offering a thrilling spectacle for racing enthusiasts worldwide.,\n",
              "  \n",
              " Formula 1, commonly known as F1, represents the pinnacle of single-seater auto racing.,\n",
              " It's distinguished by high-speed races, cutting-edge technology, and a global fan base.]"
            ]
          },
          "metadata": {},
          "execution_count": 63
        }
      ]
    },
    {
      "cell_type": "code",
      "source": [
        "final_summary = [word.text for word in summary]\n",
        "summary = ' '.join(final_summary)"
      ],
      "metadata": {
        "id": "NBZAPZh90m-T"
      },
      "execution_count": 64,
      "outputs": []
    },
    {
      "cell_type": "code",
      "source": [
        "print(text)"
      ],
      "metadata": {
        "colab": {
          "base_uri": "https://localhost:8080/"
        },
        "id": "6Fb_0OY70s_1",
        "outputId": "501ab815-eeb8-4b5c-8987-416a0d67d188"
      },
      "execution_count": 65,
      "outputs": [
        {
          "output_type": "stream",
          "name": "stdout",
          "text": [
            " \n",
            "Formula 1, commonly known as F1, represents the pinnacle of single-seater auto racing. It's distinguished by high-speed races, cutting-edge technology, and a global fan base. F1 cars are renowned for their aerodynamic designs and incredible speeds, often exceeding 200 miles per hour. The Formula 1 World Championship consists of a series of Grands Prix races, held on various circuits worldwide. Teams and drivers compete for both the Drivers' Championship and the Constructors' Championship. Each team, like Mercedes, Ferrari, and Red Bull Racing, designs and builds its own specialized car, pushing the limits of engineering. Formula 1 is celebrated for its iconic drivers, such as Michael Schumacher, Ayrton Senna, and Lewis Hamilton, and has a massive global viewership. Safety innovations, like the Halo device, have been introduced to protect drivers. The sport is also adapting to environmental concerns by introducing hybrid power units and sustainability initiatives. Formula 1 combines speed, technology, strategy, teamwork, and precision, offering a thrilling spectacle for racing enthusiasts worldwide. \n"
          ]
        }
      ]
    },
    {
      "cell_type": "code",
      "source": [
        "print(summary)"
      ],
      "metadata": {
        "colab": {
          "base_uri": "https://localhost:8080/"
        },
        "id": "qGjE7f8n0t01",
        "outputId": "cfd4ff85-a652-418b-b3b1-49c23464a819"
      },
      "execution_count": 66,
      "outputs": [
        {
          "output_type": "stream",
          "name": "stdout",
          "text": [
            "Formula 1 combines speed, technology, strategy, teamwork, and precision, offering a thrilling spectacle for racing enthusiasts worldwide.  \n",
            "Formula 1, commonly known as F1, represents the pinnacle of single-seater auto racing. It's distinguished by high-speed races, cutting-edge technology, and a global fan base.\n"
          ]
        }
      ]
    },
    {
      "cell_type": "code",
      "source": [],
      "metadata": {
        "id": "T0xm2WJv05mm"
      },
      "execution_count": null,
      "outputs": []
    }
  ]
}